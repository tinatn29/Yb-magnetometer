{
 "cells": [
  {
   "cell_type": "code",
   "execution_count": 1,
   "id": "9ddbb7d9",
   "metadata": {},
   "outputs": [],
   "source": [
    "import numpy as np\n",
    "import matplotlib.pyplot as plt\n",
    "plt.rcParams['figure.figsize'] = [10, 6]\n",
    "plt.rcParams['font.size'] = 18\n",
    "plt.rcParams['pdf.fonttype'] = 42\n",
    "plt.rcParams['ps.fonttype'] = 42\n",
    "# plt.rcParams['mathtext.fontset'] = 'cm'\n",
    "%load_ext autoreload\n",
    "%autoreload 2"
   ]
  },
  {
   "cell_type": "code",
   "execution_count": 3,
   "id": "4268d987",
   "metadata": {},
   "outputs": [],
   "source": [
    "def loc_1D_gradient(image_properties, b_array, b_fixed=0):\n",
    "    '''\n",
    "    output dimensions: (len(z) x len(x), 5)\n",
    "    '''\n",
    "    b_3d = np.zeros((len(b_array), 3))\n",
    "    b_3d[:, image_properties['fixed_axis']] = b_fixed * np.ones(len(b_array))\n",
    "    b_3d[:, image_properties['main_axis']] = b_array\n",
    "    \n",
    "    if image_properties['gradient_along'] == 'z' and len(b_array) == len(image_properties['z']):\n",
    "        loc_x = np.zeros(len(image_properties['z']))\n",
    "        loc = np.array([loc_x, image_properties['z']]).transpose()\n",
    "        b = b_3d\n",
    "        \n",
    "    elif image_properties['gradient_along'] == 'x' and len(b_array) == len(image_properties['x']):\n",
    "        loc_z = np.zeros(len(image_properties['x']))\n",
    "        loc = np.array([image_properties['x'], loc_z]).transpose()\n",
    "    else:\n",
    "        print(\"ERROR: dimension mismatched\")\n",
    "    return np.hstack((loc, b_3d))"
   ]
  },
  {
   "cell_type": "markdown",
   "id": "3e436675",
   "metadata": {},
   "source": [
    "# Generate config files: velocity samples and b-fields\n",
    "## 1. Basic $b_z$ gradient"
   ]
  },
  {
   "cell_type": "code",
   "execution_count": 13,
   "id": "f7d15b1a",
   "metadata": {},
   "outputs": [],
   "source": [
    "bz = np.linspace(0, 75, 151)\n",
    "bx = by = np.zeros(len(bz))\n",
    "b = np.array([bx, by, bz]).transpose()\n",
    "np.save(\"./configs/bz_linear_75.npy\", b)"
   ]
  },
  {
   "cell_type": "code",
   "execution_count": 2,
   "id": "8ed879b0",
   "metadata": {},
   "outputs": [],
   "source": [
    "bz = np.linspace(-25, 25, 51)\n",
    "np.save(\"./configs/bz_2Dmap_25.npy\", bz)"
   ]
  },
  {
   "cell_type": "code",
   "execution_count": 3,
   "id": "11662ce3",
   "metadata": {},
   "outputs": [
    {
     "data": {
      "text/plain": [
       "array([-25., -24., -23., -22., -21., -20., -19., -18., -17., -16., -15.,\n",
       "       -14., -13., -12., -11., -10.,  -9.,  -8.,  -7.,  -6.,  -5.,  -4.,\n",
       "        -3.,  -2.,  -1.,   0.,   1.,   2.,   3.,   4.,   5.,   6.,   7.,\n",
       "         8.,   9.,  10.,  11.,  12.,  13.,  14.,  15.,  16.,  17.,  18.,\n",
       "        19.,  20.,  21.,  22.,  23.,  24.,  25.])"
      ]
     },
     "execution_count": 3,
     "metadata": {},
     "output_type": "execute_result"
    }
   ],
   "source": [
    "bz"
   ]
  },
  {
   "cell_type": "markdown",
   "id": "22d79270",
   "metadata": {},
   "source": [
    "## 2. $b_z$ gradient with offset"
   ]
  },
  {
   "cell_type": "code",
   "execution_count": 14,
   "id": "a658e558",
   "metadata": {},
   "outputs": [],
   "source": [
    "bz = np.linspace(0, 75, 151)\n",
    "by = np.zeros(len(bz))\n",
    "bx = 10 * np.ones(len(bz))\n",
    "b = np.array([bx, by, bz]).transpose()\n",
    "np.save(\"./configs/bz_linear_75_bx_10.npy\", b)"
   ]
  },
  {
   "cell_type": "markdown",
   "id": "ec85aca0",
   "metadata": {},
   "source": [
    "## 3. Load Hongquan's data and divide it by 2"
   ]
  },
  {
   "cell_type": "code",
   "execution_count": 17,
   "id": "bb599864",
   "metadata": {},
   "outputs": [],
   "source": [
    "b_old = np.load(\"./configs/bz_frames_2.npy\")\n",
    "b_new = b_old / 2\n",
    "np.save(\"./configs/bz_frames_2_new.npy\", b_new)"
   ]
  },
  {
   "cell_type": "markdown",
   "id": "94328d6d",
   "metadata": {},
   "source": [
    "## 4. $v_x$ sampling"
   ]
  },
  {
   "cell_type": "code",
   "execution_count": 14,
   "id": "8b27b115",
   "metadata": {},
   "outputs": [
    {
     "data": {
      "image/png": "[encoded data removed]",
      "text/plain": [
       "<Figure size 720x432 with 1 Axes>"
      ]
     },
     "metadata": {
      "needs_background": "light"
     },
     "output_type": "display_data"
    }
   ],
   "source": [
    "k_B = 1.38e-23\n",
    "T = 450 + 273.15\n",
    "m = 174 * 1.67e-27\n",
    "\n",
    "sigma = 2 * 0.017 * np.sqrt(k_B * T / (2 * m))\n",
    "# assuming width of the transverse velocity is 2 x 17mrad x width of longitudinal v\n",
    "\n",
    "# sigma = 4.93 # estimate from the distribution of v_r and v_z\n",
    "\n",
    "vx = np.random.normal(0, sigma, 500)\n",
    "\n",
    "fig, ax = plt.subplots()\n",
    "count, bins, ignored = plt.hist(vx, 40, density=True)\n",
    "plt.plot(bins, 1/(sigma * np.sqrt(2 * np.pi)) *\n",
    "               np.exp( - (bins - 0)**2 / (2 * sigma**2) ),\n",
    "         linewidth=2, color='k')\n",
    "ax.set_xlabel(\"$v_x$ (m/s)\")\n",
    "ax.set_ylabel(\"Frac. of atoms\")\n",
    "plt.show()"
   ]
  },
  {
   "cell_type": "code",
   "execution_count": 2,
   "id": "ef123bb3",
   "metadata": {},
   "outputs": [],
   "source": [
    "vx = np.array([0, 0.1]) # 2 atoms\n",
    "np.save(\"./configs/vx_input_2.npy\", vx)"
   ]
  },
  {
   "cell_type": "code",
   "execution_count": 3,
   "id": "8588f366",
   "metadata": {},
   "outputs": [
    {
     "data": {
      "text/plain": [
       "array([0. , 0.1])"
      ]
     },
     "execution_count": 3,
     "metadata": {},
     "output_type": "execute_result"
    }
   ],
   "source": [
    "vx"
   ]
  },
  {
   "cell_type": "code",
   "execution_count": null,
   "id": "84604aca",
   "metadata": {},
   "outputs": [],
   "source": [
    "np.save(\"./configs/bz_frames_2_new.npy\", b_new)"
   ]
  }
 ],
 "metadata": {
  "kernelspec": {
   "display_name": "Python 3 (ipykernel)",
   "language": "python",
   "name": "python3"
  },
  "language_info": {
   "codemirror_mode": {
    "name": "ipython",
    "version": 3
   },
   "file_extension": ".py",
   "mimetype": "text/x-python",
   "name": "python",
   "nbconvert_exporter": "python",
   "pygments_lexer": "ipython3",
   "version": "3.7.0"
  }
 },
 "nbformat": 4,
 "nbformat_minor": 5
}
